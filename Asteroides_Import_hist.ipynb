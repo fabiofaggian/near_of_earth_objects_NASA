{
  "cells": [
    {
      "cell_type": "markdown",
      "metadata": {
        "id": "view-in-github",
        "colab_type": "text"
      },
      "source": [
        "<a href=\"https://colab.research.google.com/github/fabiofaggian/near_of_earth_objects_NASA/blob/main/Asteroides_Import_hist.ipynb\" target=\"_parent\"><img src=\"https://colab.research.google.com/assets/colab-badge.svg\" alt=\"Open In Colab\"/></a>"
      ]
    },
    {
      "cell_type": "code",
      "execution_count": null,
      "metadata": {
        "id": "ch-at-MdH13R"
      },
      "outputs": [],
      "source": [
        "#import\n",
        "\n",
        "import requests\n",
        "import json\n",
        "import pandas as pd"
      ]
    },
    {
      "cell_type": "code",
      "execution_count": null,
      "metadata": {
        "colab": {
          "base_uri": "https://localhost:8080/"
        },
        "id": "1WLsG6bzuNlt",
        "outputId": "936727ba-01b9-4315-ed72-79c49866fb08"
      },
      "outputs": [
        {
          "output_type": "stream",
          "name": "stdout",
          "text": [
            "Mounted at /content/drive\n"
          ]
        }
      ],
      "source": [
        "from google.colab import drive\n",
        "drive.mount('/content/drive')"
      ]
    },
    {
      "cell_type": "code",
      "source": [
        "#Definição das funções\n",
        "\n",
        "# Exporta o json para uma pasta \n",
        "  #path: caminho da pasta\n",
        "  #fileName: nome do arquivo que será escrito na pasta\n",
        "  #data: arquivo que será exportado \n",
        "def writeToJSONFile(path, fileName, data):\n",
        "    filePathNameWExt = path + '/' + fileName + '.json'\n",
        "    with open(filePathNameWExt, 'w') as fp:\n",
        "        json.dump(data, fp)\n",
        "\n",
        "\n",
        "def dates(start_date, end_date):\n",
        "    date_sun = pd.DataFrame(pd.date_range(f\"{start_date}\", f\"{end_date}\", freq=\"W-SUN\"))\n",
        "    date_sat = pd.DataFrame(pd.date_range(f\"{start_date}\", f\"{end_date}\", freq=\"W-SAT\"))\n",
        "\n",
        "    dfdates_sun = []\n",
        "    dfdates_sat = []\n",
        "\n",
        "    for r in range(len(date_sun)):\n",
        "      dfdates_sun.append(date_sun.loc[r,0].strftime(\"%Y-%m-%d\"))\n",
        "      dfdates_sat.append(date_sat.loc[r,0].strftime(\"%Y-%m-%d\"))\n",
        "    return (dfdates_sun, dfdates_sat)\n"
      ],
      "metadata": {
        "id": "3poxQ9oi9Oo1"
      },
      "execution_count": null,
      "outputs": []
    },
    {
      "cell_type": "code",
      "source": [
        "API_KEY = 'nS2Q2qP2JtjOr63ks0if4lkrPqWR4xCU81nIjHuq'\n",
        "\n",
        "path = '/content/drive/MyDrive/Testes/base_dados/raw_historico'\n",
        "\n",
        "START = '2018-10-28'   #Inserir o primeiro domingo\n",
        "END = '2022-08-27'     #Inserir o primeiro sabado\n",
        "\n",
        "#Quantidade de semanas que será processada\n",
        "print(len(dates(START, END)[0]))"
      ],
      "metadata": {
        "id": "W5B9yEol-QcD",
        "colab": {
          "base_uri": "https://localhost:8080/"
        },
        "outputId": "91e61377-8f1f-4eea-bb0e-df98a96430ac"
      },
      "execution_count": null,
      "outputs": [
        {
          "output_type": "stream",
          "name": "stdout",
          "text": [
            "200\n"
          ]
        }
      ]
    },
    {
      "cell_type": "code",
      "execution_count": null,
      "metadata": {
        "id": "cr3tdnvHIAPC",
        "colab": {
          "base_uri": "https://localhost:8080/"
        },
        "outputId": "5515d877-dd78-4201-dd30-d6003ce9fff6"
      },
      "outputs": [
        {
          "output_type": "stream",
          "name": "stdout",
          "text": [
            "100.00 %"
          ]
        }
      ],
      "source": [
        "#INGESTÃO de dados do passado\n",
        "\n",
        "sunday = dates(START, END)[0]\n",
        "saturday = dates(START, END)[1]\n",
        "\n",
        "#Requisitar na API\n",
        "w =len(sunday)\n",
        "\n",
        "for q in range(w):\n",
        "  START_DATE = sunday[q]\n",
        "  END_DATE = saturday[q]\n",
        "\n",
        "  url = f'https://api.nasa.gov/neo/rest/v1/feed?start_date={START_DATE}&end_date={END_DATE}&api_key={API_KEY}'\n",
        "  req = requests.get(url)\n",
        "  data = req.json()\n",
        "  writeToJSONFile(path, START_DATE+'_'+END_DATE, data)\n",
        "  print(end=\"\\r%6.2f %%\" % (q/(w-1)*100))"
      ]
    }
  ],
  "metadata": {
    "colab": {
      "collapsed_sections": [],
      "provenance": [],
      "authorship_tag": "ABX9TyOPYUH6m92+SiwvUFMapzWx",
      "include_colab_link": true
    },
    "kernelspec": {
      "display_name": "Python 3",
      "name": "python3"
    },
    "language_info": {
      "name": "python"
    }
  },
  "nbformat": 4,
  "nbformat_minor": 0
}