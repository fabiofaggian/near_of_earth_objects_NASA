{
  "nbformat": 4,
  "nbformat_minor": 0,
  "metadata": {
    "colab": {
      "provenance": [],
      "collapsed_sections": [],
      "authorship_tag": "ABX9TyM8Dp+56lUzUQzGySrqwdk6",
      "include_colab_link": true
    },
    "kernelspec": {
      "name": "python3",
      "display_name": "Python 3"
    },
    "language_info": {
      "name": "python"
    }
  },
  "cells": [
    {
      "cell_type": "markdown",
      "metadata": {
        "id": "view-in-github",
        "colab_type": "text"
      },
      "source": [
        "<a href=\"https://colab.research.google.com/github/fabiofaggian/near_of_earth_objects_NASA/blob/main/Asteroides_reprocess_hist.ipynb\" target=\"_parent\"><img src=\"https://colab.research.google.com/assets/colab-badge.svg\" alt=\"Open In Colab\"/></a>"
      ]
    },
    {
      "cell_type": "code",
      "execution_count": null,
      "metadata": {
        "id": "MO4kzhyHMOHt"
      },
      "outputs": [],
      "source": [
        "#import\n",
        "\n",
        "import json\n",
        "import pandas as pd"
      ]
    },
    {
      "cell_type": "code",
      "source": [
        "from google.colab import drive\n",
        "drive.mount('/content/drive')"
      ],
      "metadata": {
        "colab": {
          "base_uri": "https://localhost:8080/"
        },
        "id": "XXncDnS8NtA7",
        "outputId": "a617da92-8530-4d44-ef85-e25cd494e861"
      },
      "execution_count": null,
      "outputs": [
        {
          "output_type": "stream",
          "name": "stdout",
          "text": [
            "Mounted at /content/drive\n"
          ]
        }
      ]
    },
    {
      "cell_type": "code",
      "source": [
        "def openjson(path, filename):\n",
        "  with open(path + filename, 'r') as fp:\n",
        "    data = json.load(fp)\n",
        "    return data\n",
        "\n",
        "def dates(start_date, end_date):\n",
        "    date_sun = pd.DataFrame(pd.date_range(f\"{start_date}\", f\"{end_date}\", freq=\"W-SUN\"))\n",
        "    date_sat = pd.DataFrame(pd.date_range(f\"{start_date}\", f\"{end_date}\", freq=\"W-SAT\"))\n",
        "\n",
        "    dfdates_sun = []\n",
        "    dfdates_sat = []\n",
        "\n",
        "    for r in range(len(date_sun)):\n",
        "      dfdates_sun.append(date_sun.loc[r,0].strftime(\"%Y-%m-%d\"))\n",
        "      dfdates_sat.append(date_sat.loc[r,0].strftime(\"%Y-%m-%d\"))\n",
        "    return (dfdates_sun, dfdates_sat)"
      ],
      "metadata": {
        "id": "QrtxobHsMf_F"
      },
      "execution_count": null,
      "outputs": []
    },
    {
      "cell_type": "code",
      "source": [
        "path = '/content/drive/MyDrive/Testes/base_dados/raw_historico'\n",
        "\n",
        "START = '2000-01-02'   #Inserir o primeiro domingo\n",
        "END = '2022-08-27'     #Inserir o primeiro sabado\n",
        "#2009-11-15_2009-11-21  PROBLEM\n",
        "\n",
        "#INGESTÃO de dados do passado\n",
        "\n",
        "sunday = dates(START, END)[0]\n",
        "saturday = dates(START, END)[1]\n",
        "\n",
        "#Quantidade de semanas que será processada\n",
        "print(len(dates(START, END)[0]))"
      ],
      "metadata": {
        "id": "or3UuYprOb9y",
        "colab": {
          "base_uri": "https://localhost:8080/"
        },
        "outputId": "a4a54eef-a50a-4b20-b71d-a2f7bfe3a114"
      },
      "execution_count": null,
      "outputs": [
        {
          "output_type": "stream",
          "name": "stdout",
          "text": [
            "1182\n"
          ]
        }
      ]
    },
    {
      "cell_type": "code",
      "source": [
        "w =len(sunday)\n",
        "df_raw = pd.DataFrame()\n",
        "\n",
        "for i in range(w):\n",
        "    data = pd.DataFrame(openjson(path,f'/{sunday[i]}_{saturday[i]}.json'))\n",
        "    df_raw = df_raw.append(data)\n",
        "\n",
        "\n",
        "df_raw = df_raw.drop(['next','prev','self']).drop(columns=['links','element_count'])\n",
        "df_raw = df_raw.reset_index().sort_values(by=['index'])\n",
        "\n",
        "#Tratamento \n",
        "\n",
        "# Tratar os dados\n",
        "\n",
        "others = ['close_approach_date','close_approach_date_full','epoch_date_close_approach','orbiting_body']\n",
        "vel = ['kilometers_per_hour','kilometers_per_second','miles_per_hour']\n",
        "dist = ['astronomical','kilometers','lunar','miles']\n",
        "diam = ['feet','meters','kilometers','miles']\n",
        "\n",
        "df_final = pd.DataFrame()\n",
        "ze = len(df_raw)\n",
        "\n",
        "for n in range(len(df_raw)):\n",
        "  df = pd.DataFrame(df_raw['near_earth_objects'][n])\n",
        "  for i in range(len(df)):\n",
        "    df.loc[i,'links'] = df.loc[i,'links']['self']\n",
        "    for j in others:\n",
        "      df.loc[i,j] = df.loc[i].close_approach_data[0][j]\n",
        "    for k in vel:\n",
        "      df.loc[i,f'vel_{k}'] = df.loc[i].close_approach_data[0]['relative_velocity'][k]\n",
        "    for l in dist:\n",
        "      df.loc[i,f'miss_dist_{l}'] = df.loc[i].close_approach_data[0]['miss_distance'][l]\n",
        "    for m in diam:\n",
        "      try:\n",
        "        df.loc[i,f'diam_max_{m}'] = df.loc[i]['estimated_diameter'][m]['estimated_diameter_max']\n",
        "        df.loc[i,f'diam_min_{m}'] = df.loc[i]['estimated_diameter'][m]['estimated_diameter_min']\n",
        "      except:\n",
        "        df.loc[i,f'diam_max_{m}'] = 0\n",
        "        df.loc[i,f'diam_min_{m}'] = 0\n",
        "  df_final = df_final.append(df.drop(['estimated_diameter','close_approach_data'], axis=1))\n",
        "  #df = df.drop(['estimated_diameter','close_approach_data'], axis=1)\n",
        "  print(end=\"\\r%6.2f %%\" % (n/(ze-1)*100))"
      ],
      "metadata": {
        "id": "J8i1V7G4y1U7",
        "colab": {
          "base_uri": "https://localhost:8080/"
        },
        "outputId": "5ee3c1f8-3498-4aa8-9dad-82012bbee8fd"
      },
      "execution_count": null,
      "outputs": [
        {
          "output_type": "stream",
          "name": "stdout",
          "text": [
            "100.00 %"
          ]
        }
      ]
    },
    {
      "cell_type": "code",
      "source": [
        "df_final = df_final.reset_index()\n",
        "df_final = df_final.drop(columns='index')"
      ],
      "metadata": {
        "id": "m0Ib18U-0u6Q"
      },
      "execution_count": null,
      "outputs": []
    },
    {
      "cell_type": "code",
      "source": [
        "df_final.to_csv('/content/drive/MyDrive/Testes/base_dados/refined_historico/refined_csv')"
      ],
      "metadata": {
        "id": "s-Hrss500u3R"
      },
      "execution_count": null,
      "outputs": []
    },
    {
      "cell_type": "code",
      "source": [],
      "metadata": {
        "id": "1l0MIYgpAWGM"
      },
      "execution_count": null,
      "outputs": []
    }
  ]
}